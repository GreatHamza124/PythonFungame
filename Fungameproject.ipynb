{
 "cells": [
  {
   "cell_type": "code",
   "execution_count": 1,
   "id": "958ae419-27b7-4f10-9ba7-cd110e29a023",
   "metadata": {},
   "outputs": [],
   "source": [
    "import numpy as np\n",
    "from IPython.display import clear_output"
   ]
  },
  {
   "cell_type": "code",
   "execution_count": 8,
   "id": "3302b335-ad92-4e44-80bc-fec579dd7e7d",
   "metadata": {},
   "outputs": [
    {
     "name": "stdout",
     "output_type": "stream",
     "text": [
      "[[0. 0. 0. 0. 0. 0. 0. 0. 0. 0.]\n",
      " [0. 0. 0. 0. 0. 0. 0. 0. 0. 0.]\n",
      " [0. 0. 0. 0. 0. 0. 0. 0. 0. 0.]\n",
      " [0. 0. 0. 0. 0. 0. 0. 0. 0. 0.]\n",
      " [0. 0. 0. 0. 0. 0. 0. 0. 0. 0.]\n",
      " [0. 0. 0. 0. 0. 1. 0. 0. 0. 0.]\n",
      " [0. 0. 0. 0. 0. 0. 0. 0. 0. 0.]\n",
      " [0. 0. 0. 0. 0. 0. 0. 5. 0. 0.]\n",
      " [0. 0. 0. 0. 0. 0. 0. 0. 0. 0.]\n",
      " [0. 0. 0. 0. 0. 0. 0. 0. 0. 0.]]\n"
     ]
    }
   ],
   "source": [
    "final = 10\n",
    "a = np.zeros((final,final))\n",
    "x = 5\n",
    "y = 5\n",
    "a[7][7] = 5\n",
    "altx = x\n",
    "alty = y\n",
    "a[x][y] = 1\n",
    "print(a)\n",
    "direction = 'q'\n",
    "while direction != 'e':\n",
    "    direction = input(\"Enter a direction: \")\n",
    "    if direction == 'd':\n",
    "        if y < final-1 and a[x][y+1] != 5:\n",
    "            y = y + 1\n",
    "    elif direction == 'a':\n",
    "        if y > 0 and a[x][y-1] !=5:\n",
    "            y = y - 1\n",
    "    elif direction == 'w':\n",
    "        if x > 0 and a[x-1][y] != 5:\n",
    "            x = x - 1\n",
    "    elif direction == 's':\n",
    "        if x < final-1 and a[x+1][y] != 5:\n",
    "            x = x + 1\n",
    "    a[altx][alty] = 0\n",
    "    a[x][y] = 1\n",
    "    altx = x\n",
    "    alty = y\n",
    "    clear_output(wait=False)\n",
    "    print(a)"
   ]
  }
 ],
 "metadata": {
  "kernelspec": {
   "display_name": "Python 3 (ipykernel)",
   "language": "python",
   "name": "python3"
  },
  "language_info": {
   "codemirror_mode": {
    "name": "ipython",
    "version": 3
   },
   "file_extension": ".py",
   "mimetype": "text/x-python",
   "name": "python",
   "nbconvert_exporter": "python",
   "pygments_lexer": "ipython3",
   "version": "3.11.5"
  }
 },
 "nbformat": 4,
 "nbformat_minor": 5
}
