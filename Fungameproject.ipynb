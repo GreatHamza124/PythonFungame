{
 "cells": [
  {
   "cell_type": "code",
   "execution_count": 9,
   "id": "958ae419-27b7-4f10-9ba7-cd110e29a023",
   "metadata": {},
   "outputs": [],
   "source": [
    "import numpy as np\n",
    "from IPython.display import clear_output\n",
    "import random"
   ]
  },
  {
   "cell_type": "code",
   "execution_count": 21,
   "id": "a629e5d3-c6ac-4ee3-b66d-b8438899eb56",
   "metadata": {},
   "outputs": [],
   "source": [
    "final = 10\n",
    "starting_value = 5\n",
    "player = 1\n",
    "block = 4"
   ]
  },
  {
   "cell_type": "code",
   "execution_count": 22,
   "id": "3302b335-ad92-4e44-80bc-fec579dd7e7d",
   "metadata": {},
   "outputs": [
    {
     "name": "stdout",
     "output_type": "stream",
     "text": [
      "[[0. 4. 4. 4. 4. 0. 0. 4. 0. 4.]\n",
      " [0. 4. 4. 0. 0. 0. 4. 0. 4. 0.]\n",
      " [4. 4. 4. 0. 4. 0. 4. 4. 0. 4.]\n",
      " [0. 0. 4. 4. 0. 0. 4. 4. 4. 4.]\n",
      " [4. 0. 4. 4. 0. 0. 0. 0. 4. 0.]\n",
      " [0. 0. 0. 0. 0. 0. 0. 0. 0. 0.]\n",
      " [4. 4. 1. 0. 4. 0. 4. 4. 4. 0.]\n",
      " [0. 4. 0. 4. 4. 0. 4. 4. 0. 4.]\n",
      " [0. 4. 4. 0. 0. 0. 4. 4. 0. 4.]\n",
      " [4. 0. 4. 4. 4. 0. 0. 4. 0. 4.]]\n"
     ]
    }
   ],
   "source": [
    "a = np.zeros((final,final))\n",
    "x = starting_value\n",
    "y = starting_value\n",
    "altx = x\n",
    "alty = y\n",
    "a[x][y] = player\n",
    "for x in range(100):\n",
    "    x = random.randint(0,final-1)\n",
    "    y = random.randint(0,final-1)\n",
    "    if x != starting_value and y != starting_value:\n",
    "        a[x][y] = block\n",
    "print(a)\n",
    "direction = 'q'\n",
    "x = altx\n",
    "y = alty\n",
    "while direction != 'e':\n",
    "    direction = input(\"Enter a direction: \")\n",
    "    if direction == 'd':\n",
    "        if y < final-1 and a[x][y+1] != block:\n",
    "            y = y + 1\n",
    "    elif direction == 'a':\n",
    "        if y > 0 and a[x][y-1] != block:\n",
    "            y = y - 1\n",
    "    elif direction == 'w':\n",
    "        if x > 0 and a[x-1][y] != block:\n",
    "            x = x - 1\n",
    "    elif direction == 's':\n",
    "        if x < final-1 and a[x+1][y] != block:\n",
    "            x = x + 1\n",
    "    a[altx][alty] = 0\n",
    "    a[x][y] = 1\n",
    "    altx = x\n",
    "    alty = y\n",
    "    clear_output(wait=False)\n",
    "    print(a)"
   ]
  }
 ],
 "metadata": {
  "kernelspec": {
   "display_name": "Python 3 (ipykernel)",
   "language": "python",
   "name": "python3"
  },
  "language_info": {
   "codemirror_mode": {
    "name": "ipython",
    "version": 3
   },
   "file_extension": ".py",
   "mimetype": "text/x-python",
   "name": "python",
   "nbconvert_exporter": "python",
   "pygments_lexer": "ipython3",
   "version": "3.11.5"
  }
 },
 "nbformat": 4,
 "nbformat_minor": 5
}
